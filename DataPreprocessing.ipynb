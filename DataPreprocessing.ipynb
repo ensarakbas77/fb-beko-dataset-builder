{
 "cells": [
  {
   "cell_type": "code",
   "execution_count": null,
   "id": "67d98fba-dfe4-4b58-9744-b0926e032f38",
   "metadata": {},
   "outputs": [],
   "source": []
  }
 ],
 "metadata": {
  "kernelspec": {
   "display_name": "",
   "name": ""
  },
  "language_info": {
   "name": ""
  }
 },
 "nbformat": 4,
 "nbformat_minor": 5
}
